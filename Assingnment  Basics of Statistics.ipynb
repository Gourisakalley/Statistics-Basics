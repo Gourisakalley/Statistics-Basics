{
 "cells": [
  {
   "cell_type": "code",
   "execution_count": 1,
   "id": "1021c55d-0e9d-48fc-aae6-4b141b983bd3",
   "metadata": {},
   "outputs": [],
   "source": [
    "#Que.1. Explain the different types of data (qualitative and quantitative) and provide examples of each. Discuss nominal, ordinal, interval, and ratio scales."
   ]
  },
  {
   "cell_type": "code",
   "execution_count": null,
   "id": "62d4559e-8bd4-4892-b1e0-a41eeb8331b3",
   "metadata": {},
   "outputs": [],
   "source": [
    "#Types of data \n",
    "\n",
    "##First type of data\n",
    "#Qualitative Data : This type of data describes qualities or characteristics that can't be measured with numbers. its mainly in categories .\n",
    "# Example 1 : \n",
    "# Nominal Scale : These are just categories with no specific order.\n",
    "   # Example : Gender (male, female). Hair color (black, brown, red)\n",
    "\n",
    "# Example 2:\n",
    "# Ordinal Scale : These are just categories with an specific order. \n",
    "    # Example : Education level (high school , bachelor's , master's)\n",
    "\n",
    "\n",
    "##Second type of data \n",
    "# Quantitative Data \n",
    "# This data represents measurable quantities and can be divided into discrete and continuous data.\n",
    "# Example 1: \n",
    "# Discrete Data : In this data it will take specific finite whole number values, this are countable data.\n",
    "    # Example : number of childern (5 childern), number of bank account (3 account)\n",
    "# Example 2: \n",
    "# Continuous Data : This is measurable data that can take any value within a range \n",
    "    # Example : Height(170.5 cm), Weight (65kg)\n",
    "\n",
    "\n",
    "\n"
   ]
  },
  {
   "cell_type": "code",
   "execution_count": 3,
   "id": "4171a60b-b9ec-4b3e-98a9-6b1247955db8",
   "metadata": {},
   "outputs": [],
   "source": [
    "#Que.2. What are the measures of central tendency, and when should you use each? Discuss the mean, median, and mode with examples and situations where each is appropriate.\n"
   ]
  },
  {
   "cell_type": "code",
   "execution_count": 8,
   "id": "99c4efdc-c4fa-4534-8086-20c96ef2f262",
   "metadata": {},
   "outputs": [],
   "source": [
    "#Measures of Central Tendancy -:\n",
    "\n",
    "# Measures of central tendancy are statistical measures that describe the centr of a data set. The three main measures are *Mean, *Median and *Mode.\n",
    "\n",
    "## 1. Mean :\n",
    "    #Defination : The mean is the average of all the value in a data set.\n",
    "    #**Formula -: \n",
    "        #Mean = Sum of all values / Number of values \n",
    "        # Example : If the ages of five people are 20, 22, 24, 26, and 28:\n",
    "            # Mean = {20 + 22 + 24 + 26 + 28} / {5}\n",
    "            #      = {120} / {5}\n",
    "            #      = 24\n",
    "#* When to use :-  \n",
    "#  - Use the mean when the data set has no extreme values (outliers).\n",
    "#  - It's suitable for data that is normally distributed.\n",
    "\n",
    "## 2. Median\n",
    "    #- *Definition*: The median is the middle value when the data set is ordered from smallest to largest.\n",
    "    #- If the number of values (n) is odd: Median = middle value.\n",
    "    # - If n is even: Median = average of the two middle values.\n",
    "\n",
    "        #- *Example*: For the ages 20, 22, 24, 26, and 28 (5 values, odd):\n",
    "        #             - Ordered: 20, 22, 24, 26, 28 (Median = 24)\n",
    "        #               For the ages 20, 22, 24, and 26 (4 values, even):\n",
    "        #             - Ordered: 20, 22, 24, 26 (Median = (22 + 24) / 2 = 23)\n",
    "\n",
    "\n",
    "#*When to Use*:\n",
    "#  - Use the median when the data set has outliers that could skew the mean.\n",
    "#  - It's suitable for ordinal data or when dealing with skewed distributions.\n",
    "\n",
    "## 3. Mode\n",
    "    #- *Definition*: The mode is the value that appears most frequently in a data set.\n",
    "         #*Example*: In the data set 20, 22, 22, 24, 26, the mode is 22 (as it appears twice).\n",
    "# *When to Use*:\n",
    "# - Use the mode for categorical data where we wish to know the most common category.\n",
    "# - It's useful for data with repeated values, regardless of the data type (nominal, ordinal, interval).\n",
    "\n",
    "## Summary\n",
    "#- *Mean*: Best for normally distributed data without outliers (e.g., average test scores).\n",
    "#- *Median*: Best for skewed data or data with outliers (e.g., household incomes).\n",
    "#- *Mode*: Best for categorical data or to find the most common item (e.g., most popular product).\n"
   ]
  },
  {
   "cell_type": "code",
   "execution_count": 9,
   "id": "7b832be4-c250-4c7f-b949-b23ee5499633",
   "metadata": {},
   "outputs": [],
   "source": [
    "#Que.3. Explain the concept of dispersion. How do variance and standard deviation measure the spread of data?"
   ]
  },
  {
   "cell_type": "code",
   "execution_count": 10,
   "id": "d7c00d7c-71ee-42e0-83d2-d85b4d1a51d4",
   "metadata": {},
   "outputs": [],
   "source": [
    "#Concept of Dispersion\n",
    "   \n",
    "    #Dispersion refers to how data values spread around a central value, such as the mean. It helps us understand the variability in a data set. High dispersion means data points are widely spread out, while low dispersion indicates they are close to the mean.\n",
    "\n",
    "#Measuring Dispersion\n",
    "#1. Variance:\n",
    "#      Definition: Variance measures the average of the squared differences from the mean.\n",
    "#        Formula:\n",
    "#              Population:\n",
    "#               \\sigma^2 = \\frac{\\sum (x_i - \\mu)^2}{N}\n",
    "#               s^2 = \\frac{\\sum (x_i - \\bar{x})^2}{n-1}\n",
    "\n",
    "#2. Standard Deviation:\n",
    "#       Definition: Standard deviation is the square root of the variance.\n",
    "#        Formula:\n",
    "#              Population:\n",
    "#               \\sigma = \\sqrt{\\sigma^2}\n",
    "#                s = \\sqrt{s^2}\n",
    "\n",
    "\n",
    "##Summary -:\n",
    "\n",
    "#Dispersion shows how varied data is.\n",
    "\n",
    "#Variance indicates the average squared deviation from the mean.\n",
    "\n",
    "#Standard Deviation provides a more interpretable measure of spread.\n",
    "\n"
   ]
  },
  {
   "cell_type": "code",
   "execution_count": 11,
   "id": "3610ecc3-8af9-4856-aabb-3366b7001911",
   "metadata": {},
   "outputs": [],
   "source": [
    "#Que.4. What is a box plot, and what can it tell you about the distribution of data?"
   ]
  },
  {
   "cell_type": "code",
   "execution_count": 12,
   "id": "e832e7f0-b184-40eb-9765-a0c136ab0316",
   "metadata": {},
   "outputs": [],
   "source": [
    "#Box Plot\n",
    "\n",
    "    #A box plot (or whisker plot) is a graphical tool that summarizes a data set’s distribution. It displays key statistics, including:-\n",
    "\n",
    "#Minimum: The smallest value in the data set.\n",
    "\n",
    "#First Quartile (Q1): The 25th percentile.\n",
    "\n",
    "#Median (Q2): The 50th percentile.\n",
    "\n",
    "#Third Quartile (Q3): The 75th percentile.\n",
    "\n",
    "#Maximum: The largest value within 1.5 times the IQR from Q3.\n",
    "\n",
    "#What It Tells You\n",
    "\n",
    "    #Central Tendency: The median line shows the center of the data.\n",
    "\n",
    "    #Spread: The box's width (IQR) indicates variability; a wider box means more spread.\n",
    "   \n",
    "    #Skewness: The position of the median line within the box indicates data skewness.\n",
    "\n",
    "    #Outliers: Points outside the whiskers are potential outliers, highlighting unusual data points.\n",
    "\n",
    "##Summary\n",
    "\n",
    "#Box plots provide a quick visual summary of data distribution, helping identify central values, variability, and outliers."
   ]
  },
  {
   "cell_type": "code",
   "execution_count": 13,
   "id": "f20fe2a1-8992-4258-9149-e47008e4e6f1",
   "metadata": {},
   "outputs": [],
   "source": [
    "#Que.5. Discuss the role of random sampling in making inferences about populations."
   ]
  },
  {
   "cell_type": "code",
   "execution_count": 14,
   "id": "049a2747-77a2-42d4-bcda-d2e3ea702891",
   "metadata": {},
   "outputs": [],
   "source": [
    "#Role of Random Sampling in Making Inferences About a Population\n",
    "\n",
    "    #Random Sampling is a technique where each member of a population has an equal chance of being selected. Its role includes:-\n",
    "        #1. Representation: Ensures the sample reflects the population, reducing bias.\n",
    "        #2. Statistical Inference: Allows us to draw conclusions about the entire population based on sample data.\n",
    "        #3. Error Reduction: Minimizes systematic errors by avoiding overrepresentation or underrepresentation of groups.\n",
    "        #4. Hypothesis Testing: Enables testing of hypotheses about the population using sample results.\n",
    "        #5. Confidence Intervals: Facilitates the calculation of confidence intervals, providing a range likely to contain the true population parameter.\n",
    "\n",
    "##Summary\n",
    "\n",
    "#Random sampling is crucial for making valid and reliable inferences about a population from a sample.!"
   ]
  },
  {
   "cell_type": "code",
   "execution_count": 15,
   "id": "31743592-019e-4209-af0b-9c04183c1443",
   "metadata": {},
   "outputs": [],
   "source": [
    "#Que.6. Explain the concept of skewness and its types. How does skewness affect the interpretation of data?"
   ]
  },
  {
   "cell_type": "code",
   "execution_count": null,
   "id": "53779f73-d481-4474-8266-9266f5c0abee",
   "metadata": {},
   "outputs": [],
   "source": [
    "#Concept of Skewness\n",
    "    #Skewness measures the asymmetry of a data distribution. It indicates whether data is skewed to the left or right of the mean.\n",
    "\n",
    "#Types of Skewness\n",
    "\n",
    "#1. Positive Skewness (Right Skewed):\n",
    "        #Longer tail on the right.\n",
    "        #Mean > Median.\n",
    "    #Example: Income distribution.\n",
    "#2. Negative Skewness (Left Skewed):\n",
    "        #Longer tail on the left.\n",
    "        #Mean < Median.\n",
    "    #Example: Age at retirement.\n",
    "#3. No Skewness (Symmetrical):\n",
    "    #Even distribution.\n",
    "    #Mean ≈ Median.\n",
    "\n",
    "#Impact of Skewness on Data Interpretation\n",
    "\n",
    "#Mean vs. Median: In skewed data, the mean can be misleading; the median is a better measure of central tendency.\n",
    "\n",
    "#Outliers: Skewness often indicates outliers, affecting analysis.\n",
    "\n",
    "#Statistical Tests: Understanding skewness helps choose the right statistical methods.\n",
    "\n",
    "##Summary\n",
    "    #Skewness is important for interpreting data, influencing the choice between mean and median and guiding statistical analysis."
   ]
  },
  {
   "cell_type": "code",
   "execution_count": null,
   "id": "53c61e1a-33c2-4166-9c2d-2524f9d3d6f2",
   "metadata": {},
   "outputs": [],
   "source": [
    "#Que.7. What is the interquartile range (IQR), and how is it used to detect outliers?"
   ]
  },
  {
   "cell_type": "code",
   "execution_count": null,
   "id": "4ac3904e-52cc-49db-a9d4-2b1836c36ac2",
   "metadata": {},
   "outputs": [],
   "source": [
    "#Interquartile Range (IQR)\n",
    "    #The Interquartile Range (IQR) is a measure of statistical dispersion that represents the range within which the central 50% of a data set lies. It is calculated as follows:\n",
    "#1. Find Q1: The first quartile (25th percentile) is the median of the lower half of the data.\n",
    "#2. Find Q3: The third quartile (75th percentile) is the median of the upper half of the data.\n",
    "#3.Calculate IQR:\n",
    "    #\\text{IQR} = Q3 - Q1\n",
    " #Detecting Outliers Using IQR\n",
    "    \n",
    "#Outliers can be detected using the IQR by applying the following steps:-\n",
    "#1. Calculate the IQR.\n",
    "#2. Determine the Outlier Boundaries:\n",
    "    #Lower Bound:\n",
    "    #Upper Bound: \n",
    "#Identify Outliers: Any data point that falls below the lower bound or above the upper bound is considered an outlier.\n",
    "\n",
    "#Summary\n",
    "    #The IQR is a useful measure of variability that helps detect outliers by establishing boundaries based on the central 50% of the data. Points outside these boundaries are flagged as potential outliers, aiding in data analysis and interpretation."
   ]
  },
  {
   "cell_type": "code",
   "execution_count": 16,
   "id": "2bae5697-8d00-46a1-a89d-41f4bd294982",
   "metadata": {},
   "outputs": [],
   "source": [
    "#Que.8. Discuss the conditions under which the binomial distribution is used."
   ]
  },
  {
   "cell_type": "code",
   "execution_count": null,
   "id": "4617f7c6-27a9-4ae6-9fbb-609a1106f2da",
   "metadata": {},
   "outputs": [],
   "source": [
    "#Conditions for Binomial Distribution\n",
    "#1. Fixed Number of Trials: The experiment consists of a fixed number of independent trials (n).\n",
    "#2. Two Possible Outcomes: Each trial results in one of two outcomes, typically referred to as \"success\" or \"failure.\"\n",
    "#3. Constant Probability: The probability of success (p) is the same for each trial.\n",
    "#4. Independent Trials: The outcome of one trial does not affect the outcome of another trial.\n",
    "\n",
    "#Summary\n",
    "    #The binomial distribution is used when there are a fixed number of independent trials, each with two possible outcomes and a constant probability of success."
   ]
  },
  {
   "cell_type": "code",
   "execution_count": null,
   "id": "828a7a09-969b-4ce1-a7cb-decd0ef0f557",
   "metadata": {},
   "outputs": [],
   "source": [
    "#Que.9. Explain the properties of the normal distribution and the empirical rule (68-95-99.7 rule)"
   ]
  },
  {
   "cell_type": "code",
   "execution_count": null,
   "id": "d478c0c2-b2d1-49ee-9082-48592990f69b",
   "metadata": {},
   "outputs": [],
   "source": [
    "#Properties of Normal Distribution\n",
    "\n",
    "#1. Symmetrical: The normal distribution is symmetrical around the mean, meaning the left and right halves are mirror images.\n",
    "#2. Bell-Shaped Curve: It has a bell-shaped curve, with most of the data points concentrated around the mean.\n",
    "#3. Mean, Median, Mode: In a normal distribution, the mean, median, and mode are all equal and located at the center of the distribution.\n",
    "#4. Asymptotic: The tails of the curve approach, but never touch, the horizontal axis.\n",
    "#5. Defined by Mean and Standard Deviation: The normal distribution is fully characterized by its mean (μ) and standard deviation (σ).\n",
    "\n",
    "#Empirical Rule (68-95-99.7 Rule)\n",
    "#The empirical rule states that for a normal distribution:\n",
    "#68% of the data falls within one standard deviation of the mean (μ ± σ).\n",
    "#95% of the data falls within two standard deviations (μ ± 2σ).\n",
    "#99.7% of the data falls within three standard deviations (μ ± 3σ).\n",
    "\n",
    "\n",
    "##Summary\n",
    "    #The normal distribution is symmetrical and bell-shaped, characterized by its mean and standard deviation. The empirical rule provides a quick way to understand data distribution within standard deviations from the mean."
   ]
  },
  {
   "cell_type": "code",
   "execution_count": null,
   "id": "e1a48db7-29cd-46f7-83cc-73b8c6a4b744",
   "metadata": {},
   "outputs": [],
   "source": [
    "#Que. 11. Explain what a random variable is and differentiate between discrete and continuous random variables."
   ]
  },
  {
   "cell_type": "code",
   "execution_count": null,
   "id": "aed2781f-8c4e-4b43-a629-017ed02dd8cc",
   "metadata": {},
   "outputs": [],
   "source": [
    "#Random Variable\n",
    "    #A random variable is a numerical outcome of a random phenomenon. It assigns a number to each possible outcome in a sample space, allowing for quantitative analysis of random events.\n",
    "\n",
    "#Types of Random Variables\n",
    "#1. Discrete Random Variables:\n",
    "    #Definition: These can take on a countable number of distinct values.\n",
    "    #Examples: Number of heads in 10 coin flips, number of students in a classroom.\n",
    "#Characteristics: Values are often integers, and probabilities can be assigned to each value.\n",
    "\n",
    "\n",
    "#2. Continuous Random Variables:\n",
    "    #Definition: These can take on an infinite number of values within a given range.\n",
    "    #Examples: Height of students, temperature in a city.\n",
    "#Characteristics: Values can be any real number within an interval, and probabilities are represented using probability density functions (PDFs).\n",
    "\n",
    "\n",
    "#Summary\n",
    "\n",
    "#Random Variable: A numerical outcome of a random event.\n",
    "\n",
    "#Discrete: Countable values (e.g., number of events).\n",
    "\n",
    "#Continuous: Infinite values in a range (e.g., measurements)."
   ]
  },
  {
   "cell_type": "code",
   "execution_count": null,
   "id": "6ec0d3c1-8651-4705-90d9-c7f7d1aefdc2",
   "metadata": {},
   "outputs": [],
   "source": []
  }
 ],
 "metadata": {
  "kernelspec": {
   "display_name": "Python 3 (ipykernel)",
   "language": "python",
   "name": "python3"
  },
  "language_info": {
   "codemirror_mode": {
    "name": "ipython",
    "version": 3
   },
   "file_extension": ".py",
   "mimetype": "text/x-python",
   "name": "python",
   "nbconvert_exporter": "python",
   "pygments_lexer": "ipython3",
   "version": "3.12.6"
  }
 },
 "nbformat": 4,
 "nbformat_minor": 5
}
